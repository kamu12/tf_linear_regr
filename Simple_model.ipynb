{
 "cells": [
  {
   "cell_type": "code",
   "execution_count": 1,
   "metadata": {},
   "outputs": [
    {
     "name": "stderr",
     "output_type": "stream",
     "text": [
      "/home/yura/.local/lib/python3.6/site-packages/sklearn/cross_validation.py:41: DeprecationWarning: This module was deprecated in version 0.18 in favor of the model_selection module into which all the refactored classes and functions are moved. Also note that the interface of the new CV iterators are different from that of this module. This module will be removed in 0.20.\n",
      "  \"This module will be removed in 0.20.\", DeprecationWarning)\n"
     ]
    }
   ],
   "source": [
    "%matplotlib inline\n",
    "\n",
    "import tensorflow as tf\n",
    "import numpy as np\n",
    "import pandas as pd\n",
    "from sklearn.preprocessing import scale\n",
    "from sklearn import cross_validation\n",
    "from tqdm import tqdm_notebook as progressbar"
   ]
  },
  {
   "cell_type": "code",
   "execution_count": 15,
   "metadata": {
    "scrolled": true
   },
   "outputs": [],
   "source": [
    "df = pd.read_csv('./Data/sample.csv', parse_dates=[2], nrows=1000)"
   ]
  },
  {
   "cell_type": "code",
   "execution_count": 16,
   "metadata": {},
   "outputs": [],
   "source": [
    "df = df.drop('Unnamed: 0', axis=1)"
   ]
  },
  {
   "cell_type": "code",
   "execution_count": 17,
   "metadata": {},
   "outputs": [],
   "source": [
    "col_hex = ['site_id', 'site_domain', 'site_category', 'app_id', 'app_domain',\n",
    "       'app_category', 'device_id', 'device_ip', 'device_model']\n"
   ]
  },
  {
   "cell_type": "code",
   "execution_count": 18,
   "metadata": {
    "scrolled": true
   },
   "outputs": [
    {
     "data": {
      "application/vnd.jupyter.widget-view+json": {
       "model_id": "8ca5c2faa4ad41caa9d4da1f8b00a670",
       "version_major": 2,
       "version_minor": 0
      },
      "text/html": [
       "<p>Failed to display Jupyter Widget of type <code>HBox</code>.</p>\n",
       "<p>\n",
       "  If you're reading this message in the Jupyter Notebook or JupyterLab Notebook, it may mean\n",
       "  that the widgets JavaScript is still loading. If this message persists, it\n",
       "  likely means that the widgets JavaScript library is either not installed or\n",
       "  not enabled. See the <a href=\"https://ipywidgets.readthedocs.io/en/stable/user_install.html\">Jupyter\n",
       "  Widgets Documentation</a> for setup instructions.\n",
       "</p>\n",
       "<p>\n",
       "  If you're reading this message in another frontend (for example, a static\n",
       "  rendering on GitHub or <a href=\"https://nbviewer.jupyter.org/\">NBViewer</a>),\n",
       "  it may mean that your frontend doesn't currently support widgets.\n",
       "</p>\n"
      ],
      "text/plain": [
       "HBox(children=(IntProgress(value=0, max=9), HTML(value='')))"
      ]
     },
     "metadata": {},
     "output_type": "display_data"
    },
    {
     "name": "stdout",
     "output_type": "stream",
     "text": [
      "\n"
     ]
    }
   ],
   "source": [
    "for col in progressbar(col_hex):\n",
    "    df[col] = df[col].apply(lambda x: float.fromhex(x))"
   ]
  },
  {
   "cell_type": "code",
   "execution_count": 19,
   "metadata": {
    "scrolled": true
   },
   "outputs": [],
   "source": [
    "df = df.astype(\"float64\")"
   ]
  },
  {
   "cell_type": "code",
   "execution_count": 20,
   "metadata": {},
   "outputs": [],
   "source": [
    "y = np.asarray(df['click'])"
   ]
  },
  {
   "cell_type": "code",
   "execution_count": 21,
   "metadata": {},
   "outputs": [],
   "source": [
    "X = df.loc[:, df.columns != 'click'].as_matrix()"
   ]
  },
  {
   "cell_type": "code",
   "execution_count": 22,
   "metadata": {},
   "outputs": [
    {
     "name": "stderr",
     "output_type": "stream",
     "text": [
      "/home/yura/.local/lib/python3.6/site-packages/sklearn/preprocessing/data.py:164: UserWarning: Numerical issues were encountered when centering the data and might not be solved. Dataset may contain too large values. You may need to prescale your features.\n",
      "  warnings.warn(\"Numerical issues were encountered \"\n"
     ]
    }
   ],
   "source": [
    "X_train = scale(X[:800])\n",
    "y_train = y[:800]\n",
    "\n",
    "X_valid = scale(X[800:900])\n",
    "y_valid = y[800:900]\n",
    "\n",
    "X_test = scale(X[900:])\n",
    "y_test = y[900:]\n"
   ]
  },
  {
   "cell_type": "code",
   "execution_count": 23,
   "metadata": {
    "scrolled": true
   },
   "outputs": [],
   "source": [
    "w = tf.Variable(tf.truncated_normal([22, 1], mean=0.0, stddev=1.0, dtype=tf.float64))\n",
    "b = tf.Variable(tf.zeros(1, dtype = tf.float64))"
   ]
  },
  {
   "cell_type": "code",
   "execution_count": 24,
   "metadata": {},
   "outputs": [],
   "source": [
    "def calc(x, y):\n",
    "    # Returns predictions and error\n",
    "    predictions = tf.add(b, tf.matmul(x, w))\n",
    "    error = tf.reduce_mean(tf.square(y - predictions))\n",
    "    return [ predictions, error ]"
   ]
  },
  {
   "cell_type": "code",
   "execution_count": 25,
   "metadata": {
    "scrolled": true
   },
   "outputs": [],
   "source": [
    "y, cost = calc(X_train, y_train)\n",
    "\n",
    "learning_rate = 0.025\n",
    "epochs = 3000"
   ]
  },
  {
   "cell_type": "code",
   "execution_count": 26,
   "metadata": {},
   "outputs": [],
   "source": [
    "init = tf.global_variables_initializer()\n",
    "optimizer = tf.train.GradientDescentOptimizer(learning_rate).minimize(cost)"
   ]
  },
  {
   "cell_type": "code",
   "execution_count": 30,
   "metadata": {},
   "outputs": [
    {
     "name": "stdout",
     "output_type": "stream",
     "text": [
      "Epoch:  0\n",
      "Train error:  15.483305275155715\n",
      "Epoch:  100\n",
      "Train error:  0.22632918849972902\n",
      "Epoch:  200\n",
      "Train error:  0.1809620093962378\n",
      "Epoch:  300\n",
      "Train error:  0.1686535508758414\n",
      "Epoch:  400\n",
      "Train error:  0.15998402369704046\n",
      "Epoch:  500\n",
      "Train error:  0.1533846333132509\n",
      "Epoch:  600\n",
      "Train error:  0.14832208853753845\n",
      "Epoch:  700\n",
      "Train error:  0.14442948202198905\n",
      "Epoch:  800\n",
      "Train error:  0.14143091186629736\n",
      "Epoch:  900\n",
      "Train error:  0.13911678446129488\n",
      "Epoch:  1000\n",
      "Train error:  0.13732751247213348\n",
      "Epoch:  1100\n",
      "Train error:  0.13594140123942658\n",
      "Epoch:  1200\n",
      "Train error:  0.13486551483914733\n",
      "Epoch:  1300\n",
      "Train error:  0.1340287714413249\n",
      "Epoch:  1400\n",
      "Train error:  0.13337671773726129\n",
      "Epoch:  1500\n",
      "Train error:  0.13286756991587473\n",
      "Epoch:  1600\n",
      "Train error:  0.1324692108972334\n",
      "Epoch:  1700\n",
      "Train error:  0.1321569101898318\n",
      "Epoch:  1800\n",
      "Train error:  0.13191159033157393\n",
      "Epoch:  1900\n",
      "Train error:  0.1317185071713914\n",
      "Epoch:  2000\n",
      "Train error:  0.13156624381885695\n",
      "Epoch:  2100\n",
      "Train error:  0.13144594260299314\n",
      "Epoch:  2200\n",
      "Train error:  0.13135071784860192\n",
      "Epoch:  2300\n",
      "Train error:  0.13127520619189337\n",
      "Epoch:  2400\n",
      "Train error:  0.13121522165661417\n",
      "Epoch:  2500\n",
      "Train error:  0.1311674906351535\n",
      "Epoch:  2600\n",
      "Train error:  0.131129447905461\n",
      "Epoch:  2700\n",
      "Train error:  0.13109907934237663\n",
      "Epoch:  2800\n",
      "Train error:  0.13107480040897151\n",
      "Epoch:  2900\n",
      "Train error:  0.1310553621099956\n",
      "\n",
      "Validation error = 0.13449579176241933 \n",
      "\n",
      "Test error = 0.1621078316465337 \n",
      "\n"
     ]
    }
   ],
   "source": [
    "with tf.Session() as sess:\n",
    "\n",
    "    sess.run(init)\n",
    "\n",
    "    for i in list(range(epochs)):\n",
    "\n",
    "        sess.run(optimizer)\n",
    "\n",
    "        if i % 100 == 0:\n",
    "            print('Epoch: ', i)\n",
    "            print('Train error: ', sess.run(cost))\n",
    "\n",
    "    valid_cost = calc(X_valid, y_valid)[1]\n",
    "\n",
    "    print('\\nValidation error =', sess.run(valid_cost), '\\n')\n",
    "\n",
    "    test_cost = calc(X_test, y_test)[1]\n",
    "\n",
    "    print('Test error =', sess.run(test_cost), '\\n')"
   ]
  },
  {
   "cell_type": "code",
   "execution_count": null,
   "metadata": {},
   "outputs": [],
   "source": []
  }
 ],
 "metadata": {
  "kernelspec": {
   "display_name": "dpl",
   "language": "python",
   "name": "dpl"
  },
  "language_info": {
   "codemirror_mode": {
    "name": "ipython",
    "version": 3
   },
   "file_extension": ".py",
   "mimetype": "text/x-python",
   "name": "python",
   "nbconvert_exporter": "python",
   "pygments_lexer": "ipython3",
   "version": "3.6.3"
  }
 },
 "nbformat": 4,
 "nbformat_minor": 2
}
